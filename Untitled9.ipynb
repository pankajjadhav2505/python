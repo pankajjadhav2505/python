{
  "nbformat": 4,
  "nbformat_minor": 0,
  "metadata": {
    "colab": {
      "private_outputs": true,
      "provenance": [],
      "authorship_tag": "ABX9TyMyVHKfkRld0uRXMIININKo",
      "include_colab_link": true
    },
    "kernelspec": {
      "name": "python3",
      "display_name": "Python 3"
    },
    "language_info": {
      "name": "python"
    }
  },
  "cells": [
    {
      "cell_type": "markdown",
      "metadata": {
        "id": "view-in-github",
        "colab_type": "text"
      },
      "source": [
        "<a href=\"https://colab.research.google.com/github/pankajjadhav2505/python/blob/main/Untitled9.ipynb\" target=\"_parent\"><img src=\"https://colab.research.google.com/assets/colab-badge.svg\" alt=\"Open In Colab\"/></a>"
      ]
    },
    {
      "cell_type": "code",
      "execution_count": null,
      "metadata": {
        "id": "Qno08jBejyCj"
      },
      "outputs": [],
      "source": [
        "import numpy as np\n",
        "\n",
        "# arr = np.array([1, 2, 3, 4, 5])\n",
        "# print(arr)\n",
        "arr = np.random.randint(1, 10, size=(5, 5))\n",
        "print(arr)"
      ]
    },
    {
      "cell_type": "code",
      "source": [
        "arr = np.arange(1, 21).reshape(4, 5)\n",
        "print(arr)\n",
        "print(arr)\n",
        "# print(arr.reshape(2, 5))"
      ],
      "metadata": {
        "id": "dOCPi0ipkkVx"
      },
      "execution_count": null,
      "outputs": []
    },
    {
      "cell_type": "code",
      "source": [
        "arr = np.array([1, 2, 3, 4, 5])\n",
        "print(arr)"
      ],
      "metadata": {
        "id": "8MXsRgRGlQpB"
      },
      "execution_count": null,
      "outputs": []
    },
    {
      "cell_type": "code",
      "source": [
        "np.linspace(0, 10, num=5)\n",
        "arr = np.array([ 0. ,  2.5,  5. ,  7.5, 10. ])\n",
        "arr"
      ],
      "metadata": {
        "id": "iyNQH3u4nH3z"
      },
      "execution_count": null,
      "outputs": []
    },
    {
      "cell_type": "code",
      "source": [
        "a = np.array([[1, 2, 3],[9,8,7]])\n",
        "b = np.array([[4],[8]])\n",
        "c = np.concatenate((a, b),axis=1)\n",
        "print(c)"
      ],
      "metadata": {
        "id": "2qQEYQOO1ayr"
      },
      "execution_count": null,
      "outputs": []
    },
    {
      "cell_type": "code",
      "source": [
        "a = np.arange(24).reshape(2,3,-4)\n",
        "print(a.shape)"
      ],
      "metadata": {
        "id": "nYQlYxBa53qo"
      },
      "execution_count": null,
      "outputs": []
    },
    {
      "cell_type": "code",
      "source": [
        "a1 = np.array([[1, 1],\n",
        "               [2, 2]])\n",
        "\n",
        "a2 = np.array([[3, 3],\n",
        "               [4, 4]])\n",
        "\n",
        "np.vstack((a1, a2))\n",
        "# array([[1, 1],\n",
        "#        [2, 2],\n",
        "#        [3, 3],\n",
        "#        [4, 4]])"
      ],
      "metadata": {
        "id": "isXt1oD6CGUv"
      },
      "execution_count": null,
      "outputs": []
    },
    {
      "cell_type": "code",
      "source": [
        "a1 = np.array([[1, 1],\n",
        "               [2, 2]])\n",
        "\n",
        "a2 = np.array([[3, 3],\n",
        "               [4, 4]]\n",
        "              )\n",
        "\n",
        "np.hstack((a1,a2))"
      ],
      "metadata": {
        "id": "xQdk_SLkCIo3"
      },
      "execution_count": null,
      "outputs": []
    },
    {
      "cell_type": "code",
      "source": [
        "x = np.arange(1, 25).reshape(2, 12)\n",
        "x"
      ],
      "metadata": {
        "id": "0OsLbm4dDJIN"
      },
      "execution_count": null,
      "outputs": []
    },
    {
      "cell_type": "code",
      "source": [
        "np.hsplit(x, 3)\n"
      ],
      "metadata": {
        "id": "WnHl85dLDZkZ"
      },
      "execution_count": null,
      "outputs": []
    },
    {
      "cell_type": "code",
      "source": [
        "a = np.array([[1, 2, 3, 4], [5, 6, 7, 8], [9, 10, 11, 12]])"
      ],
      "metadata": {
        "id": "sxEfrArVDm8f"
      },
      "execution_count": null,
      "outputs": []
    },
    {
      "cell_type": "code",
      "source": [
        "a"
      ],
      "metadata": {
        "id": "NClqRFsUDnsL"
      },
      "execution_count": null,
      "outputs": []
    },
    {
      "cell_type": "code",
      "source": [
        "# prompt: what is view\n",
        "\n",
        "# View is a shallow copy of the original array.\n",
        "# It means that the data is not copied, only a new view of the original data is created.\n",
        "# Any changes made to the view will be reflected in the original array.\n",
        "\n",
        "# Example:\n",
        "arr = np.array([1, 2, 3, 4, 5])\n",
        "view = arr.view()\n",
        "view[0] = 10\n",
        "print(arr)  # Output: [10  2  3  4  5]\n"
      ],
      "metadata": {
        "id": "r9cUBVpJDowD"
      },
      "execution_count": null,
      "outputs": []
    },
    {
      "cell_type": "code",
      "source": [
        "b1 = a[0, :]\n",
        "b1"
      ],
      "metadata": {
        "id": "r8LxLYIpEFSx"
      },
      "execution_count": null,
      "outputs": []
    },
    {
      "cell_type": "code",
      "source": [
        "b2 = b1.copy()\n",
        "b2"
      ],
      "metadata": {
        "id": "tO2WEV74EGhu"
      },
      "execution_count": null,
      "outputs": []
    },
    {
      "cell_type": "code",
      "source": [],
      "metadata": {
        "id": "fSxjm-a0XMqo"
      },
      "execution_count": null,
      "outputs": []
    },
    {
      "cell_type": "code",
      "source": [
        "# prompt: reverse a vector first element becomes lst\n",
        "\n",
        "arr = np.array([1, 2, 3, 4, 5])\n",
        "arr_reversed = arr[::-1]\n",
        "print(arr_reversed)  # Output: [5 4 3 2 1]\n"
      ],
      "metadata": {
        "id": "P5SAeWy0XPLs"
      },
      "execution_count": null,
      "outputs": []
    },
    {
      "cell_type": "code",
      "source": [
        "S = np.array([[1,1,1],[1,0,1],[1,1,1]])\n",
        "S"
      ],
      "metadata": {
        "id": "kIfGFbzQYnjD"
      },
      "execution_count": null,
      "outputs": []
    },
    {
      "cell_type": "code",
      "source": [
        "# prompt: arr3 = np.full((3, 3), 1)\n",
        "# arr3[1, 1] = 0\n",
        "# print(arr3)  explain this\n",
        "\n",
        "arr3 = np.full((3, 3), 1) # Create a 3x3 array filled with 1s\n",
        "arr3[1, 1] = 0 # Set the element at row 1, column 1 to 0\n",
        "print(arr3) # Print the resulting array\n",
        "\n",
        "# Explanation:\n",
        "\n",
        "# 1. np.full((3, 3), 1): This line creates a NumPy array of shape (3, 3) (i.e., a 3x3 matrix) where every element is initialized to the value 1.\n",
        "\n",
        "# 2. arr3[1, 1] = 0: This line accesses the element at row index 1 and column index 1 (remember that Python uses zero-based indexing) and sets its value to 0. In a 3x3 matrix, this corresponds to the center element.\n",
        "\n",
        "# 3. print(arr3): This line prints the modified array to the console.\n",
        "\n",
        "# Output:\n",
        "# [[1 1 1]\n",
        "#  [1 0 1]\n",
        "#  [1 1 1]]\n",
        "\n",
        "# Therefore, this code creates a 3x3 matrix of ones and then modifies the center element to be zero.\n"
      ],
      "metadata": {
        "id": "iokrEqWfbxOF"
      },
      "execution_count": null,
      "outputs": []
    },
    {
      "cell_type": "code",
      "source": [
        "arr3 = np.full((3,3), 1)\n",
        "arr3[1,1] = 0\n",
        "print(arr3)"
      ],
      "metadata": {
        "id": "3U9TdpjucPpv"
      },
      "execution_count": null,
      "outputs": []
    },
    {
      "cell_type": "code",
      "source": [],
      "metadata": {
        "id": "As3kT0L3dOrt"
      },
      "execution_count": null,
      "outputs": []
    },
    {
      "cell_type": "code",
      "source": [
        "arr2 = np.ones((5, 5))\n",
        "arr2[:, 1] = 0  # Set all elements in the second column to 0\n",
        "arr2[1, :] = 0  # Set all elements in the second row to 0\n",
        "arr2[1, 1] = 1  # Reset the center element to 1\n",
        "print(arr2)"
      ],
      "metadata": {
        "id": "Fwv57_YWdi3C"
      },
      "execution_count": null,
      "outputs": []
    },
    {
      "cell_type": "code",
      "source": [
        "arr3 = np.zeros((3, 3))  # Start with a 3x3 array of zeros\n",
        "for i in range(3):\n",
        "  for j in range(3):\n",
        "    if i == j or i + j == 2:\n",
        "      arr3[i, j] = 1\n",
        "print(arr3)\n"
      ],
      "metadata": {
        "id": "H7hAEKm3d966"
      },
      "execution_count": null,
      "outputs": []
    },
    {
      "cell_type": "code",
      "source": [],
      "metadata": {
        "id": "H8BGHhYNeOO9"
      },
      "execution_count": null,
      "outputs": []
    }
  ]
}
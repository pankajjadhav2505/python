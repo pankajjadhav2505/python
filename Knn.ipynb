{
  "nbformat": 4,
  "nbformat_minor": 0,
  "metadata": {
    "colab": {
      "private_outputs": true,
      "provenance": [],
      "authorship_tag": "ABX9TyPPlbcK+qwGCthxTKV+LO9A",
      "include_colab_link": true
    },
    "kernelspec": {
      "name": "python3",
      "display_name": "Python 3"
    },
    "language_info": {
      "name": "python"
    }
  },
  "cells": [
    {
      "cell_type": "markdown",
      "metadata": {
        "id": "view-in-github",
        "colab_type": "text"
      },
      "source": [
        "<a href=\"https://colab.research.google.com/github/pankajjadhav2505/python/blob/main/Knn.ipynb\" target=\"_parent\"><img src=\"https://colab.research.google.com/assets/colab-badge.svg\" alt=\"Open In Colab\"/></a>"
      ]
    },
    {
      "cell_type": "code",
      "execution_count": null,
      "metadata": {
        "id": "8ew4gMXRgAlt"
      },
      "outputs": [],
      "source": [
        "import numpy as np\n",
        "import pandas as pd\n",
        "from sklearn.model_selection import train_test_split\n",
        "# from sklearn.linear_model import LogisticRegression\n",
        "# from sklearn.metrics import accuracy_score\n"
      ]
    },
    {
      "cell_type": "code",
      "source": [
        "from sklearn.datasets import load_breast_cancer\n",
        "sp = load_breast_cancer()"
      ],
      "metadata": {
        "id": "wuhevvyKgb37"
      },
      "execution_count": null,
      "outputs": []
    },
    {
      "cell_type": "code",
      "source": [
        "sp"
      ],
      "metadata": {
        "id": "b8vf4I5Rgphh"
      },
      "execution_count": null,
      "outputs": []
    },
    {
      "cell_type": "code",
      "source": [
        "sp.target"
      ],
      "metadata": {
        "id": "yW2xDGIlgxOr"
      },
      "execution_count": null,
      "outputs": []
    },
    {
      "cell_type": "code",
      "source": [
        "sp.target_names"
      ],
      "metadata": {
        "id": "TeWXg9GXiWIi"
      },
      "execution_count": null,
      "outputs": []
    },
    {
      "cell_type": "code",
      "source": [
        "# creating data frame and ##typecasting\n",
        "df = pd.DataFrame(np.c_[sp.data,sp.target],columns=[list(sp.feature_names)+['target']])\n",
        "df"
      ],
      "metadata": {
        "id": "e-fwShuDia9J"
      },
      "execution_count": null,
      "outputs": []
    },
    {
      "cell_type": "code",
      "source": [
        "df.shape"
      ],
      "metadata": {
        "id": "vS9GF4UGi-yy"
      },
      "execution_count": null,
      "outputs": []
    },
    {
      "cell_type": "code",
      "source": [
        "df.info()"
      ],
      "metadata": {
        "id": "pmRBYgrgj6mu"
      },
      "execution_count": null,
      "outputs": []
    },
    {
      "cell_type": "code",
      "source": [
        "df.isnull().sum()"
      ],
      "metadata": {
        "id": "aKlf5ZKrj9SU"
      },
      "execution_count": null,
      "outputs": []
    },
    {
      "cell_type": "code",
      "source": [
        "x =df.drop('target',axis=1)\n",
        "y = df['target']\n",
        "#spliting the data into train set and test set\n",
        "\n",
        "and y that is input and output"
      ],
      "metadata": {
        "id": "L9-Q0AO_kYk2"
      },
      "execution_count": null,
      "outputs": []
    },
    {
      "cell_type": "code",
      "source": [
        "from sklearn.model_selection import train_test_split\n",
        "x_train,x_test,y_train,y_test = train_test_split(x,y,test_size=0.2,random_state=2020)"
      ],
      "metadata": {
        "id": "VtpbhLallGns"
      },
      "execution_count": null,
      "outputs": []
    },
    {
      "cell_type": "code",
      "source": [
        "print('shape of x_train',x_train.shape)\n",
        "print('shape of x_shape',x_test.shape)\n",
        "print('shape of y_train',y_train.shape)\n",
        "print('shape of y_shape',y_test.shape)\n",
        "\n",
        "\n"
      ],
      "metadata": {
        "id": "VQOoDqdNlthZ"
      },
      "execution_count": null,
      "outputs": []
    },
    {
      "cell_type": "code",
      "source": [
        "#importing the kNeighborsClassifier\n",
        "\n",
        "from sklearn.neighbors import KNeighborsClassifier\n",
        "# creating the object for kNeighborsclassifier\n",
        "knn = KNeighborsClassifier(n_neighbors=5)\n",
        "\n",
        "#training the model\n",
        "knn.fit(x_train,y_train)\n",
        "\n",
        "\n",
        "# y_pred = knn.predict(x_test)\n",
        "# x_train_pred = knn.predict(x_train)\n",
        "# training_data_accuracy = accuracy_score(y_train_pred,y_train)\n",
        "# test_data_accuracy = accuracy_score(y_pred,y_test)\n",
        "# print('accuracy score of training data',training_data_accuracy)\n",
        "# print('accuracy score of test data',test_data_accuracy)\n"
      ],
      "metadata": {
        "id": "TAjDV7AGoObR"
      },
      "execution_count": null,
      "outputs": []
    },
    {
      "cell_type": "code",
      "source": [
        "knn.score(x_train,y_train)*100"
      ],
      "metadata": {
        "id": "EiopNakModpF"
      },
      "execution_count": null,
      "outputs": []
    },
    {
      "cell_type": "code",
      "source": [
        "knn.score(x_test,y_test)*100\n",
        "#score function computs the accurcy of model by comparing the  predicted label (from x_ test ) and with the true/actual label(y-test)"
      ],
      "metadata": {
        "id": "2TlD4ZrAqpMz"
      },
      "execution_count": null,
      "outputs": []
    },
    {
      "cell_type": "code",
      "source": [
        "patient = np.array([17.99,\n",
        " 10.38,\n",
        " 122.8,\n",
        " 1001.0,\n",
        " 0.1184,\n",
        " 0.2776,\n",
        " 0.3001,\n",
        " 0.1471,\n",
        " 0.2419,\n",
        " 0.07871,\n",
        " 1.095,\n",
        " 0.9053,\n",
        " 8.589,\n",
        " 153.4,\n",
        " 0.006399,\n",
        " 0.04904,\n",
        " 0.05373,\n",
        " 0.01587,\n",
        " 0.03003,\n",
        " 0.006193,\n",
        " 25.38,\n",
        " 17.33,\n",
        " 184.6,\n",
        " 2019.0,\n",
        " 0.1622,\n",
        " 0.6656,\n",
        " 0.7119,\n",
        " 0.2654,\n",
        " 0.4601,\n",
        " 0.1189])\n",
        "patient = patient.reshape(1,-1)\n",
        "patient"
      ],
      "metadata": {
        "id": "OH1-96Kfq9Dl"
      },
      "execution_count": null,
      "outputs": []
    },
    {
      "cell_type": "code",
      "source": [
        "knn.predict(patient)"
      ],
      "metadata": {
        "id": "RM7tSzHwtfkw"
      },
      "execution_count": null,
      "outputs": []
    },
    {
      "cell_type": "code",
      "source": [],
      "metadata": {
        "id": "Y5bTGCBzxayu"
      },
      "execution_count": null,
      "outputs": []
    },
    {
      "cell_type": "code",
      "source": [
        "pd"
      ],
      "metadata": {
        "id": "33WV8brVyabg"
      },
      "execution_count": null,
      "outputs": []
    },
    {
      "cell_type": "code",
      "source": [
        "df.head()"
      ],
      "metadata": {
        "id": "DR-OkVhiy82c"
      },
      "execution_count": null,
      "outputs": []
    },
    {
      "cell_type": "code",
      "source": [],
      "metadata": {
        "id": "2HgDnSfgy-K1"
      },
      "execution_count": null,
      "outputs": []
    }
  ]
}
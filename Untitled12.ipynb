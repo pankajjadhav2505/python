{
  "nbformat": 4,
  "nbformat_minor": 0,
  "metadata": {
    "colab": {
      "private_outputs": true,
      "provenance": [],
      "authorship_tag": "ABX9TyPswKsT8IXpwRvrn0hkqbqt",
      "include_colab_link": true
    },
    "kernelspec": {
      "name": "python3",
      "display_name": "Python 3"
    },
    "language_info": {
      "name": "python"
    }
  },
  "cells": [
    {
      "cell_type": "markdown",
      "metadata": {
        "id": "view-in-github",
        "colab_type": "text"
      },
      "source": [
        "<a href=\"https://colab.research.google.com/github/pankajjadhav2505/python/blob/main/Untitled12.ipynb\" target=\"_parent\"><img src=\"https://colab.research.google.com/assets/colab-badge.svg\" alt=\"Open In Colab\"/></a>"
      ]
    },
    {
      "cell_type": "code",
      "execution_count": null,
      "metadata": {
        "id": "khWBGJIFFyhm"
      },
      "outputs": [],
      "source": [
        "import numpy as np\n",
        "import pandas as pd\n",
        "import matplotlib.pyplot as plt\n",
        "import seaborn as sns\n",
        "import warnings\n",
        "warnings.filterwarnings('ignore')\n",
        "#"
      ]
    },
    {
      "cell_type": "code",
      "source": [
        "df = pd.read_csv('train.csv')\n",
        "df.head(10)"
      ],
      "metadata": {
        "id": "R-iRLtPQIVRI"
      },
      "execution_count": null,
      "outputs": []
    },
    {
      "cell_type": "code",
      "source": [
        "pd.set_option('display.max_columns', None)\n",
        "df.head(10)"
      ],
      "metadata": {
        "id": "mujWitXKIdmM"
      },
      "execution_count": null,
      "outputs": []
    },
    {
      "cell_type": "code",
      "source": [
        "df.shape"
      ],
      "metadata": {
        "id": "Lgmc5ALxIuIr"
      },
      "execution_count": null,
      "outputs": []
    },
    {
      "cell_type": "code",
      "source": [
        "df.info()"
      ],
      "metadata": {
        "id": "NjeZY6EvIwyz"
      },
      "execution_count": null,
      "outputs": []
    },
    {
      "cell_type": "code",
      "source": [
        "df.describe()"
      ],
      "metadata": {
        "id": "g6Wc2jBpIy-D"
      },
      "execution_count": null,
      "outputs": []
    },
    {
      "cell_type": "code",
      "source": [
        "df.isnull().sum()"
      ],
      "metadata": {
        "id": "Zc4xKlUlI0jP"
      },
      "execution_count": null,
      "outputs": []
    },
    {
      "cell_type": "code",
      "source": [
        "df.duplicated().sum()"
      ],
      "metadata": {
        "id": "bSlf9mKEI12a"
      },
      "execution_count": null,
      "outputs": []
    },
    {
      "cell_type": "code",
      "source": [
        "df[df['Age']>=18].count()"
      ],
      "metadata": {
        "id": "MArEIWzTI3OY"
      },
      "execution_count": null,
      "outputs": []
    },
    {
      "cell_type": "code",
      "source": [
        "df[df['Fare']>=20].count()"
      ],
      "metadata": {
        "id": "n-ZdXeaqJM7Y"
      },
      "execution_count": null,
      "outputs": []
    },
    {
      "cell_type": "code",
      "source": [
        "df[(df['Survived'] == 1) & (df['Sex']== 'male')].count()\n"
      ],
      "metadata": {
        "id": "yAdwyLgBLj62"
      },
      "execution_count": null,
      "outputs": []
    },
    {
      "cell_type": "code",
      "source": [
        "df[(df['Survived'] == 0) & (df['Fare']== 0)].count()"
      ],
      "metadata": {
        "id": "TPFWwQxIMJOf"
      },
      "execution_count": null,
      "outputs": []
    },
    {
      "cell_type": "code",
      "source": [
        "df.notnull().sum()"
      ],
      "metadata": {
        "id": "Ck_cJ3zqMphw"
      },
      "execution_count": null,
      "outputs": []
    },
    {
      "cell_type": "code",
      "source": [
        "df.dropna(subset = 'Cabin',inplace=True)\n",
        "df\n",
        "##delting the null values of specific column usin subset paramiter of drop function"
      ],
      "metadata": {
        "id": "AxpgOhwOOzc5"
      },
      "execution_count": null,
      "outputs": []
    },
    {
      "cell_type": "code",
      "source": [
        "df['Age'].fillna(df['Age'].mean(),inplace=True)\n",
        "df.count()"
      ],
      "metadata": {
        "id": "4PoUzPNyPZPK"
      },
      "execution_count": null,
      "outputs": []
    },
    {
      "cell_type": "code",
      "source": [
        "df['Cabin'].mode()"
      ],
      "metadata": {
        "id": "Lb5xqQeiP2Q7"
      },
      "execution_count": null,
      "outputs": []
    },
    {
      "cell_type": "code",
      "source": [
        "df[df['Cabin']== 'B96 B98']"
      ],
      "metadata": {
        "id": "-jr722xSSBHl"
      },
      "execution_count": null,
      "outputs": []
    },
    {
      "cell_type": "code",
      "source": [
        "df['Cabin'].fillna(df['Cabin'].mode()[0])[:301]\n",
        "df['Cabin'].fillna(df['Cabin'].mode()[1])[301:601]\n",
        "df['Cabin'].fillna(df['Cabin'].mode()[2])[:601:]"
      ],
      "metadata": {
        "id": "bfZjqR5CSMq7"
      },
      "execution_count": null,
      "outputs": []
    },
    {
      "cell_type": "code",
      "source": [
        "#whenever we call mode of any column it returens a series therefore while using mode we have to specify the index\n",
        "most_frequent_value = df[\"Embarked\"].mode()[0]\n",
        "df['Embarked']Fillna(most_frequent_value,)"
      ],
      "metadata": {
        "id": "15aO40PsTuKe"
      },
      "execution_count": null,
      "outputs": []
    },
    {
      "cell_type": "code",
      "source": [],
      "metadata": {
        "id": "nno0LiHxUyz7"
      },
      "execution_count": null,
      "outputs": []
    },
    {
      "cell_type": "code",
      "source": [
        "df[\"Age\"].fillna(method = 'ffill')"
      ],
      "metadata": {
        "id": "tNXMnhr2Ur4o"
      },
      "execution_count": null,
      "outputs": []
    },
    {
      "cell_type": "code",
      "source": [
        "df['Cabin'][0:501].fillna(method = 'ffill',inplace=True)\n",
        "df['Cabin'][501:].fillna(method = 'bfill',inplace=True)\n",
        "\n"
      ],
      "metadata": {
        "id": "kXMwXbDzWbTy"
      },
      "execution_count": null,
      "outputs": []
    },
    {
      "cell_type": "code",
      "source": [
        "df.groupby('Sex')['Age'].mean()"
      ],
      "metadata": {
        "id": "xzSIyDZ1X6Fd"
      },
      "execution_count": null,
      "outputs": []
    },
    {
      "cell_type": "code",
      "source": [
        "#group by function\n",
        "#generally use catogorical data;\n",
        "# it is for groupping data based on one or more column and appling aggreate function"
      ],
      "metadata": {
        "id": "c2-o1zX3eI7A"
      },
      "execution_count": null,
      "outputs": []
    },
    {
      "cell_type": "code",
      "source": [
        "df.groupby('Sex').size()"
      ],
      "metadata": {
        "id": "CySy_FY7eKrY"
      },
      "execution_count": null,
      "outputs": []
    },
    {
      "cell_type": "code",
      "source": [
        "df['Sex'].value_counts()"
      ],
      "metadata": {
        "id": "R6HcWUzQg7Cz"
      },
      "execution_count": null,
      "outputs": []
    },
    {
      "cell_type": "code",
      "source": [
        "groupby_sex = df.groupby('Sex')"
      ],
      "metadata": {
        "id": "hnyfFvXshIH7"
      },
      "execution_count": null,
      "outputs": []
    },
    {
      "cell_type": "code",
      "source": [
        "df.groupby('Pclass').agg({'Age':\"mean\",'Fare':\"mean\",'Survived':\"sum\",'PassengerId':\"count\",'Sex':\"count\"})"
      ],
      "metadata": {
        "id": "gGOaMAuohcwU"
      },
      "execution_count": null,
      "outputs": []
    },
    {
      "cell_type": "code",
      "source": [
        "\n",
        "\n",
        "df.groupby('Pclass')['Age'].agg(['mean', 'min', 'max'])\n"
      ],
      "metadata": {
        "id": "pKpyi2K9iQzc"
      },
      "execution_count": null,
      "outputs": []
    },
    {
      "cell_type": "code",
      "source": [
        "df.groupby(['Pclass','Sex']).agg('Survived').sum()\n"
      ],
      "metadata": {
        "id": "axBOX4Gzi9ep"
      },
      "execution_count": null,
      "outputs": []
    },
    {
      "cell_type": "code",
      "source": [
        "df.groupby(['Pclass','Embarked'])['Survived'].mean()*100"
      ],
      "metadata": {
        "id": "x9um_q5Yj3MV"
      },
      "execution_count": null,
      "outputs": []
    },
    {
      "cell_type": "code",
      "source": [
        "df.groupby(['Pclass','Embarked'])['Survived'].mean().plot(kind='line')\n",
        "plt.show()\n"
      ],
      "metadata": {
        "id": "w2HnQHvnl2fU"
      },
      "execution_count": null,
      "outputs": []
    },
    {
      "cell_type": "code",
      "source": [
        "\n",
        "# Histograms\n",
        "plt.figure(figsize=(12, 6))\n",
        "\n",
        "plt.subplot(2, 2, 1)\n",
        "sns.histplot(df['Age'], kde=True)\n",
        "plt.title('Age Distribution')\n",
        "\n",
        "plt.subplot(2, 2, 2)\n",
        "sns.histplot(df['Fare'], kde=True)\n",
        "plt.title('Fare Distribution')\n",
        "\n",
        "plt.subplot(2, 2, 3)\n",
        "sns.countplot(x='Survived', data=df)\n",
        "plt.title('Survival Count')\n",
        "\n",
        "plt.subplot(2, 2, 4)\n",
        "sns.countplot(x='Pclass', data=df)\n",
        "plt.title('Passenger Class Distribution')\n",
        "\n",
        "plt.tight_layout()\n",
        "plt.show()\n",
        "\n",
        "# Box plots\n",
        "plt.figure(figsize=(10, 6))\n",
        "sns.boxplot(x='Pclass', y='Age', data=df)\n",
        "plt.title('Age Distribution by Passenger Class')\n",
        "plt.show()\n",
        "\n",
        "# Scatter plots\n",
        "plt.figure(figsize=(10, 6))\n",
        "sns.scatterplot(x='Age', y='Fare', hue='Survived', data=df)\n",
        "plt.title('Survival based on Age and Fare')\n",
        "plt.show()\n",
        "\n",
        "# Violin plots\n",
        "plt.figure(figsize=(10, 6))\n",
        "sns.violinplot(x='Sex', y='Age', hue='Survived', data=df, split=True)\n",
        "plt.title('Survival based on Sex and Age')\n",
        "plt.show()\n",
        "\n",
        "# Pairplot\n",
        "sns.pairplot(df, vars=['Age', 'Fare', 'Pclass'], hue='Survived')\n",
        "plt.show()\n"
      ],
      "metadata": {
        "id": "uaaMdQTQn5z7"
      },
      "execution_count": null,
      "outputs": []
    },
    {
      "cell_type": "code",
      "source": [
        "plt.figure(figsize=(16, 8))  # Adjust the width (16) and height (8) as needed\n",
        "sns.violinplot(x='Sex', y='Age', hue='Survived', data=df, split=True)\n",
        "plt.title('Survival based on Sex and Age')\n",
        "plt.show()\n"
      ],
      "metadata": {
        "id": "nmH9_ebBpGPW"
      },
      "execution_count": null,
      "outputs": []
    },
    {
      "cell_type": "code",
      "source": [
        "\n",
        "# Pie chart (example: survival distribution)\n",
        "survival_counts = df['Survived'].value_counts()\n",
        "plt.figure(figsize=(6, 6))\n",
        "plt.pie(survival_counts, labels=['Did Not Survive', 'Survived'], autopct='%1.1f%%', startangle=90)\n",
        "plt.title('Survival Distribution')\n",
        "plt.show()\n",
        "\n",
        "# 3D Scatter plot (example: Age, Fare, and Pclass)\n",
        "from mpl_toolkits.mplot3d import Axes3D\n",
        "\n",
        "fig = plt.figure(figsize=(10, 8))\n",
        "ax = fig.add_subplot(111, projection='3d')\n",
        "\n",
        "# Map Pclass to numerical values for color mapping\n",
        "pclass_mapping = {1: 0, 2: 1, 3: 2}\n",
        "pclass_numeric = df['Pclass'].map(pclass_mapping)\n",
        "\n",
        "scatter = ax.scatter(df['Age'], df['Fare'], df['Pclass'], c=pclass_numeric, cmap='viridis', alpha=0.7)\n",
        "ax.set_xlabel('Age')\n",
        "ax.set_ylabel('Fare')\n",
        "ax.set_zlabel('Pclass')\n",
        "ax.set_title('3D Scatter Plot of Age, Fare, and Pclass')\n",
        "\n",
        "# Add a colorbar\n",
        "plt.colorbar(scatter, label='Pclass')\n",
        "\n",
        "plt.show()\n"
      ],
      "metadata": {
        "id": "CoHTFxy0rI88"
      },
      "execution_count": null,
      "outputs": []
    },
    {
      "cell_type": "code",
      "source": [
        "# Scatter plot\n",
        "plt.figure(figsize=(8, 6))\n",
        "plt.scatter(df['Age'], df['Fare'], c=df['Survived'], cmap='viridis', alpha=0.7)\n",
        "plt.xlabel('Age')\n",
        "plt.ylabel('Fare')\n",
        "plt.title('Scatter Plot of Age vs. Fare Survival')\n",
        "plt.colorbar(label='Survived (0 = No, 1 = Yes)')\n",
        "plt.show()"
      ],
      "metadata": {
        "id": "NDpAGi9WsJot"
      },
      "execution_count": null,
      "outputs": []
    },
    {
      "cell_type": "code",
      "source": [],
      "metadata": {
        "id": "58RoGTqZuwHE"
      },
      "execution_count": null,
      "outputs": []
    }
  ]
}
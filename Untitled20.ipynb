{
  "nbformat": 4,
  "nbformat_minor": 0,
  "metadata": {
    "colab": {
      "private_outputs": true,
      "provenance": [],
      "authorship_tag": "ABX9TyMatM4IH+g8o2ldY1Si2bHt",
      "include_colab_link": true
    },
    "kernelspec": {
      "name": "python3",
      "display_name": "Python 3"
    },
    "language_info": {
      "name": "python"
    }
  },
  "cells": [
    {
      "cell_type": "markdown",
      "metadata": {
        "id": "view-in-github",
        "colab_type": "text"
      },
      "source": [
        "<a href=\"https://colab.research.google.com/github/pankajjadhav2505/python/blob/main/Untitled20.ipynb\" target=\"_parent\"><img src=\"https://colab.research.google.com/assets/colab-badge.svg\" alt=\"Open In Colab\"/></a>"
      ]
    },
    {
      "cell_type": "code",
      "source": [
        "l=[]\n",
        "for i in range(2000, 3201):\n",
        "    if (i%7==0) and (i%5!=0):\n",
        "        l.append(str(i))\n",
        "\n",
        "print(','.join(l))"
      ],
      "metadata": {
        "id": "5jcRX3OztnA8"
      },
      "execution_count": null,
      "outputs": []
    },
    {
      "cell_type": "code",
      "source": [
        "l=[]\n",
        "for i in range(1000,2000):\n",
        "  if(i%7==0)and(i%5!=0):\n",
        "    l.append(str(i))\n",
        "\n",
        "print(','.join(l))"
      ],
      "metadata": {
        "id": "wuwWDXI63BZT"
      },
      "execution_count": null,
      "outputs": []
    },
    {
      "cell_type": "code",
      "source": [
        "def greet(name):\n",
        "    \"\"\"\n",
        "    This function greets the person passed in as a parameter.\n",
        "    \"\"\"\n",
        "    print(f\"Hello, {name}! How are you today?\")\n",
        "\n",
        "# Calling the function\n",
        "greet(\"Amit\")"
      ],
      "metadata": {
        "id": "XsgyCIDe4Pbp"
      },
      "execution_count": null,
      "outputs": []
    },
    {
      "cell_type": "code",
      "source": [
        "def team(player):\n",
        "  print(f\"my fav player is {player} sharma\")\n",
        "\n",
        "team(\"rohit\")"
      ],
      "metadata": {
        "id": "jgB91TQNCSi1"
      },
      "execution_count": null,
      "outputs": []
    },
    {
      "cell_type": "code",
      "source": [
        "def cricket(eleven):\n",
        " print(f\"cricket team has my on of the{eleven} players\")\n",
        "cricket(\"favourite\")"
      ],
      "metadata": {
        "id": "s4n_b4vBECih"
      },
      "execution_count": null,
      "outputs": []
    },
    {
      "cell_type": "code",
      "source": [],
      "metadata": {
        "id": "bZSu15cREmFR"
      },
      "execution_count": null,
      "outputs": []
    },
    {
      "cell_type": "markdown",
      "source": [
        "Write a program which can compute the factorial of a given numbers.\n",
        "The results should be printed in a comma-separated sequence on a single line.\n",
        "Suppose the following input is supplied to the program:\n",
        "8\n",
        "Then, the output should be:\n",
        "40320\n",
        "\n",
        "Hints:\n",
        "In case of input data being supplied to the question, it should be assumed to be a console input.\n",
        "# New Section"
      ],
      "metadata": {
        "id": "Q4YSHp0-Es3N"
      }
    },
    {
      "cell_type": "code",
      "source": [],
      "metadata": {
        "id": "WQu78UB9E3ms"
      },
      "execution_count": null,
      "outputs": []
    },
    {
      "cell_type": "code",
      "source": [
        "def fact(x):\n",
        "  if x==0:\n",
        "      return 1\n",
        "  return x*fact(x-1)\n",
        "x =int(input())\n",
        "print(fact(x))"
      ],
      "metadata": {
        "id": "T6USZVsvFYBv"
      },
      "execution_count": null,
      "outputs": []
    },
    {
      "cell_type": "code",
      "source": [
        "n=int(input())\n",
        "d=dict()\n",
        "for i in range(1,n+1):\n",
        "    d[i]=i*i\n",
        "\n",
        "print(d)"
      ],
      "metadata": {
        "id": "QehiInA8GxGQ"
      },
      "execution_count": null,
      "outputs": []
    },
    {
      "cell_type": "code",
      "source": [
        "p= int(input())\n",
        "d=dict()\n",
        "for i in range(1,p+1):\n",
        "    d[i]=i*i\n",
        "print(d)\n"
      ],
      "metadata": {
        "id": "_OYA5ZGIHGtr"
      },
      "execution_count": null,
      "outputs": []
    },
    {
      "cell_type": "code",
      "source": [
        "n=int(input())\n",
        "d=dict()\n",
        "for i in range(1,n+1):\n",
        "  d[i] =i*i\n",
        "print(d)"
      ],
      "metadata": {
        "id": "ShcWUWycILtc"
      },
      "execution_count": null,
      "outputs": []
    },
    {
      "cell_type": "code",
      "source": [
        "values=input()\n",
        "l=values.split(\",\")\n",
        "t=tuple(l)\n",
        "print(l)\n",
        "print(t)"
      ],
      "metadata": {
        "id": "n1STZQxidzBm"
      },
      "execution_count": null,
      "outputs": []
    },
    {
      "cell_type": "code",
      "source": [
        "txt = str(input())\n",
        "x = txt.upper()\n",
        "print(x)"
      ],
      "metadata": {
        "id": "J2ntCL2Ye2I6"
      },
      "execution_count": null,
      "outputs": []
    },
    {
      "cell_type": "code",
      "source": [
        "h=str(input())\n",
        "p = h.capitalize()\n",
        "print(p)"
      ],
      "metadata": {
        "id": "2E8aaTuBgdW8"
      },
      "execution_count": null,
      "outputs": []
    },
    {
      "cell_type": "code",
      "source": [
        "txt = \"Hello, welcome to my world.\"\n",
        "\n",
        "x = txt.find(\"welcome\")\n",
        "\n",
        "print(x)"
      ],
      "metadata": {
        "id": "RzxWt_-_g2Ig"
      },
      "execution_count": null,
      "outputs": []
    },
    {
      "cell_type": "code",
      "source": [
        "b = \"Heplo,World!\"\n",
        "print(b[2:8])"
      ],
      "metadata": {
        "id": "Jt76rg3rhf0T"
      },
      "execution_count": null,
      "outputs": []
    },
    {
      "cell_type": "code",
      "source": [
        "class InputOutString(object):\n",
        "    def __init__(self):\n",
        "        self.s = \"\"\n",
        "\n",
        "    def getString(self):\n",
        "        self.s = input()\n",
        "\n",
        "    def printString(self):\n",
        "        print(self.s.upper())\n",
        "\n",
        "strObj = InputOutString()\n",
        "strObj.getString()\n",
        "strObj.printString()"
      ],
      "metadata": {
        "id": "5uGPr-uvuABa"
      },
      "execution_count": null,
      "outputs": []
    },
    {
      "cell_type": "code",
      "source": [
        "class upperer(object):\n",
        "  def __init__(self):\n",
        "    self.s=\"\"\n",
        "  def getString(self):\n",
        "    self.s=input()\n",
        "  def printString(self):\n",
        "    print(self.s.upper())\n",
        "\n",
        "\n",
        "obj = upperer()\n",
        "obj.getString()\n",
        "obj.printString()"
      ],
      "metadata": {
        "id": "qij0bwEP3hHu"
      },
      "execution_count": null,
      "outputs": []
    },
    {
      "cell_type": "code",
      "source": [
        "class mine(object):\n",
        "  def __init__(self):\n",
        "     self.s=\"\"\n",
        "  def getString(self):\n",
        "    self.s = input()\n",
        "  def printstring(self):\n",
        "    print(self.s.upper())\n",
        "\n",
        "obj1 = mine()\n",
        "obj1.getString()\n",
        "obj1.printstring()"
      ],
      "metadata": {
        "id": "oFeMiMfE33yq"
      },
      "execution_count": null,
      "outputs": []
    },
    {
      "cell_type": "code",
      "source": [
        "class Car:\n",
        "  def __init__(self, make, model):\n",
        "    self.make = make\n",
        "    self.model = model\n",
        "my_car = Car(\"Toyota\", \"Corolla\")"
      ],
      "metadata": {
        "id": "4kIQGW--9DCz"
      },
      "execution_count": null,
      "outputs": []
    },
    {
      "cell_type": "code",
      "source": [],
      "metadata": {
        "id": "hqEqJpX7-zYz"
      },
      "execution_count": null,
      "outputs": []
    },
    {
      "cell_type": "code",
      "source": [
        "def longest_substring_without_repeating(s: str) -> int:\n",
        "    char_set = set()\n",
        "    left = 0\n",
        "    max_length = 0\n",
        "\n",
        "    for right in range(len(s)):\n",
        "        while s[right] in char_set:\n",
        "            char_set.remove(s[left])\n",
        "            left += 1\n",
        "        char_set.add(s[right])\n",
        "        max_length = max(max_length, right - left + 1)\n",
        "\n",
        "    return max_length\n",
        "\n",
        "# Example\n",
        "s = \"abcabcbb\"\n",
        "print(longest_substring_without_repeating(s))  # Output: 3 (\"abc\")\n"
      ],
      "metadata": {
        "id": "mIwOvhMZxwqe"
      },
      "execution_count": null,
      "outputs": []
    }
  ]
}
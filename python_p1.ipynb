{
  "cells": [
    {
      "cell_type": "markdown",
      "metadata": {
        "id": "view-in-github",
        "colab_type": "text"
      },
      "source": [
        "<a href=\"https://colab.research.google.com/github/pankajjadhav2505/python/blob/main/python_p1.ipynb\" target=\"_parent\"><img src=\"https://colab.research.google.com/assets/colab-badge.svg\" alt=\"Open In Colab\"/></a>"
      ]
    },
    {
      "cell_type": "code",
      "execution_count": null,
      "metadata": {
        "colab": {
          "base_uri": "https://localhost:8080/"
        },
        "id": "xQqVq7uhjrUX",
        "outputId": "26ccca4c-4e5b-420d-fa54-922ddc27ac25"
      },
      "outputs": [
        {
          "name": "stdout",
          "output_type": "stream",
          "text": [
            "Enter number of units you f*kinn consumed: 105\n",
            "Your electricity bill is: Rs. 25\n"
          ]
        }
      ],
      "source": [
        "#using nested loop\n",
        "\n",
        "units = int(input(\"Enter number of units you f*kinn consumed: \"))\n",
        "if units <= 100:\n",
        "  bill_amount = 0\n",
        "else:\n",
        "  if units <= 200:\n",
        "    bill_amount = (units - 100) * 5\n",
        "  else:\n",
        "    bill_amount = 100 * 5 + (units - 200) * 10\n",
        "print(\"Your electricity bill is: Rs.\", bill_amount)\n"
      ]
    },
    {
      "cell_type": "code",
      "execution_count": null,
      "metadata": {
        "colab": {
          "background_save": true
        },
        "id": "zi9EePFZmdU4",
        "outputId": "de56a5a0-2217-491f-e72b-5b06dd15caf8"
      },
      "outputs": [
        {
          "name": "stdout",
          "output_type": "stream",
          "text": [
            "You are eligible to vote.\n"
          ]
        }
      ],
      "source": [
        "\n",
        "\n",
        "age = int(input(\"Enter your age: \"))\n",
        "if age >= 18:\n",
        "  print(\"You are eligible to vote.\")\n",
        "else:\n",
        "  print(\"You are not eligible to vote.\")\n"
      ]
    },
    {
      "cell_type": "code",
      "source": [
        "def laugh():\n",
        "  print('hahaha')\n",
        "laugh()"
      ],
      "metadata": {
        "colab": {
          "base_uri": "https://localhost:8080/"
        },
        "id": "h0JKvi4o1E-A",
        "outputId": "aec60294-dfb8-4e89-8137-45b6bda84013"
      },
      "execution_count": 24,
      "outputs": [
        {
          "output_type": "stream",
          "name": "stdout",
          "text": [
            "hahaha\n"
          ]
        }
      ]
    },
    {
      "cell_type": "code",
      "source": [
        "def laugh(n):\n",
        "  for i in range(n):\n",
        "    print('hahaha')\n",
        "laugh(4)"
      ],
      "metadata": {
        "colab": {
          "base_uri": "https://localhost:8080/"
        },
        "id": "MvhBCvw01qrP",
        "outputId": "fd67e01b-a997-4933-945c-94878daf9dee"
      },
      "execution_count": 35,
      "outputs": [
        {
          "output_type": "stream",
          "name": "stdout",
          "text": [
            "hahaha\n",
            "hahaha\n",
            "hahaha\n",
            "hahaha\n"
          ]
        }
      ]
    },
    {
      "cell_type": "code",
      "source": [
        "def speed(d,t):\n",
        "  # print(d/t)\n",
        "  t = t/60\n",
        "  print(d/t)\n",
        "speed(100,30)\n"
      ],
      "metadata": {
        "colab": {
          "base_uri": "https://localhost:8080/"
        },
        "id": "Et_NQ5A91xrD",
        "outputId": "68053d6d-00ce-472f-dc70-7c4ca610d654"
      },
      "execution_count": 40,
      "outputs": [
        {
          "output_type": "stream",
          "name": "stdout",
          "text": [
            "200.0\n"
          ]
        }
      ]
    },
    {
      "cell_type": "code",
      "source": [
        "speed(100,10)\n",
        "speed(100,20)\n"
      ],
      "metadata": {
        "colab": {
          "base_uri": "https://localhost:8080/"
        },
        "id": "G57AkjhY3ADj",
        "outputId": "7ec1617f-9bb0-4bcf-83d6-16e852c5b565"
      },
      "execution_count": 38,
      "outputs": [
        {
          "output_type": "stream",
          "name": "stdout",
          "text": [
            "600.0\n",
            "300.0\n"
          ]
        }
      ]
    },
    {
      "cell_type": "code",
      "source": [
        ""
      ],
      "metadata": {
        "id": "hVOGGjp73Zs1"
      },
      "execution_count": null,
      "outputs": []
    }
  ],
  "metadata": {
    "colab": {
      "provenance": [],
      "authorship_tag": "ABX9TyOz4/I/fZ0EUh1gr7KASElj",
      "include_colab_link": true
    },
    "kernelspec": {
      "display_name": "Python 3",
      "name": "python3"
    },
    "language_info": {
      "name": "python"
    }
  },
  "nbformat": 4,
  "nbformat_minor": 0
}
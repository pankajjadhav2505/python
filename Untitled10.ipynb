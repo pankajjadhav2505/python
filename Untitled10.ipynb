{
  "nbformat": 4,
  "nbformat_minor": 0,
  "metadata": {
    "colab": {
      "private_outputs": true,
      "provenance": [],
      "authorship_tag": "ABX9TyOSLybWM8AaxF/lyzIwsT1e",
      "include_colab_link": true
    },
    "kernelspec": {
      "name": "python3",
      "display_name": "Python 3"
    },
    "language_info": {
      "name": "python"
    }
  },
  "cells": [
    {
      "cell_type": "markdown",
      "metadata": {
        "id": "view-in-github",
        "colab_type": "text"
      },
      "source": [
        "<a href=\"https://colab.research.google.com/github/pankajjadhav2505/python/blob/main/Untitled10.ipynb\" target=\"_parent\"><img src=\"https://colab.research.google.com/assets/colab-badge.svg\" alt=\"Open In Colab\"/></a>"
      ]
    },
    {
      "cell_type": "code",
      "execution_count": null,
      "metadata": {
        "id": "Sgy5NJZXr0tD"
      },
      "outputs": [],
      "source": [
        "import requests\n",
        "from bs4 import BeautifulSoup\n",
        "import pandas as pd\n",
        "import numpy as np\n",
        "import matplotlib.pyplot as plt\n",
        "import seaborn as sns\n",
        "import numpy as np\n",
        "# pio.renderers.default = \"browser"
      ]
    },
    {
      "cell_type": "code",
      "source": [
        "pd.set_option('display.max_columns', None)"
      ],
      "metadata": {
        "id": "x4yRk-WWsHe0"
      },
      "execution_count": null,
      "outputs": []
    },
    {
      "cell_type": "code",
      "source": [
        "plt.style.use('fivethirtyeight')"
      ],
      "metadata": {
        "id": "tv9_WfrlsN-F"
      },
      "execution_count": null,
      "outputs": []
    },
    {
      "cell_type": "code",
      "source": [
        "#read csv\n",
        "df = pd.read_csv('Iris.csv')\n",
        "df.head(20)"
      ],
      "metadata": {
        "id": "8rrKzD8hs2Fg"
      },
      "execution_count": null,
      "outputs": []
    },
    {
      "cell_type": "code",
      "source": [
        "df.groupby('Species').describe()#.head()\n"
      ],
      "metadata": {
        "id": "lpvsQnEIt9hW"
      },
      "execution_count": null,
      "outputs": []
    },
    {
      "cell_type": "code",
      "source": [
        "agg_dict ={'one':1}\n",
        "agg_dict['two'] = 2\n",
        "agg_dict"
      ],
      "metadata": {
        "id": "l7sJDbxruLHM"
      },
      "execution_count": null,
      "outputs": []
    },
    {
      "cell_type": "code",
      "source": [
        "agg_dict = {\n",
        "    field:['mean','median']\n",
        "            for field in df.columns.tolist()\n",
        "            if field != 'Species'}\n",
        "agg_dict['PetalLengthCm'] = 'min'\n",
        "df.groupby('Species').agg(agg_dict)\n",
        "# agg_dict"
      ],
      "metadata": {
        "id": "dxComin9vHlg"
      },
      "execution_count": null,
      "outputs": []
    },
    {
      "cell_type": "code",
      "source": [
        "sns.distplot(a=df['PetalWidthCm'],bins = 40,color = 'm')\n",
        "plt.title('Distribution of Petal Width')\n",
        "plt"
      ],
      "metadata": {
        "id": "GS7zRNCAxDmI"
      },
      "execution_count": null,
      "outputs": []
    },
    {
      "cell_type": "code",
      "source": [
        "sns.countplot(x='Class',data=df,hue = 'Class',)#palette = 'Set2')\n",
        "# x = plt.xticks(rotation=45)\n",
        "#"
      ],
      "metadata": {
        "id": "kPksZ_jQzkPg"
      },
      "execution_count": null,
      "outputs": []
    },
    {
      "cell_type": "code",
      "source": [
        "sns.boxplot(x='Class',y='PetalLengthCm',data=df)\n"
      ],
      "metadata": {
        "id": "lSBzWWov0Hbb"
      },
      "execution_count": null,
      "outputs": []
    },
    {
      "cell_type": "code",
      "source": [
        "df.rename(columns={\"Species\": \"Class\"}, inplace=True)\n",
        "df.head()\n"
      ],
      "metadata": {
        "id": "UPbbRZkj02py"
      },
      "execution_count": null,
      "outputs": []
    },
    {
      "cell_type": "code",
      "source": [
        "sns.violinplot(x='Class',y='PetalLengthCm',data=df,palette = 'Set2',hue='Class')\n",
        "df.xlabels = plt.xticks(rotation=45)\n",
        "df.yticks = plt.yticks(np.arange(6),['setalLength','petalLenght','super','madcoddda','bensoda','godisoda'])\n",
        "# df.xlabel = plt.xlabel('Class')"
      ],
      "metadata": {
        "id": "zoTccunc1RTL"
      },
      "execution_count": null,
      "outputs": []
    },
    {
      "cell_type": "code",
      "source": [
        "sns.heatmap(df['SepalLengthCm','SepalWidthCm','PetalLengthCm','PetalWidthCm'].corr(),cmap='YlGnBu',linewidths= 1,annot = true)"
      ],
      "metadata": {
        "id": "fQpFE6FG4dBT"
      },
      "execution_count": null,
      "outputs": []
    },
    {
      "cell_type": "code",
      "source": [
        "sns.regplot(x='PetalLengthCm',y='PetalWidthCm',data=df,color='m')"
      ],
      "metadata": {
        "id": "MZ_7PKT0BXrV"
      },
      "execution_count": null,
      "outputs": []
    },
    {
      "cell_type": "code",
      "source": [
        "sns.lmplot(x='PetalLengthCm',y='PetalWidthCm',data=df,hue='Class',palette='Set2')"
      ],
      "metadata": {
        "id": "McvSf9WSCtoq"
      },
      "execution_count": null,
      "outputs": []
    },
    {
      "cell_type": "code",
      "source": [
        "sns.jointplot(y='SepalLengthCm',x='SepalWidthCm',data=df,kind='kde',color='m')"
      ],
      "metadata": {
        "id": "-u0YOUTdELB-"
      },
      "execution_count": null,
      "outputs": []
    },
    {
      "cell_type": "code",
      "source": [
        "ax =plt.axes()\n",
        "ax.scatter(df.PetalLengthCm,df.PetalWidthCm)\n",
        "ax.set_xlabel('PetalLengthCm')\n",
        "ax.set_ylabel('PetalWidthCm')\n",
        "ax.set_title('Scatter Plot')\n"
      ],
      "metadata": {
        "id": "i2-LmpnkE3iu"
      },
      "execution_count": null,
      "outputs": []
    },
    {
      "cell_type": "code",
      "source": [
        "ax =plt.axes()\n",
        "ax.hist(df.SepalWidthCm,bins=25)\n",
        "ax.set(xlabel = 'SepalWidthCm',ylabel='Frequency',title = 'Distribution of sepal width')"
      ],
      "metadata": {
        "id": "hnc4aXo6F0OU"
      },
      "execution_count": null,
      "outputs": []
    },
    {
      "cell_type": "code",
      "source": [
        "sns.set_context('notebook')\n",
        "\n",
        "ax = df.plot.hist(bins = 25,alpha = 0.5)\n",
        "ax.set_xlabel('Size(cm)')\n",
        "ax.set_ylabel('Frequency')\n",
        "ax.set_title(f'Distribution of sepal width')\n",
        "ax\n",
        "#"
      ],
      "metadata": {
        "id": "Eeqwfd8AHrd8"
      },
      "execution_count": null,
      "outputs": []
    },
    {
      "cell_type": "code",
      "source": [
        "axList = df.hist(bins = 25,figsize=(10,10),alpha = 0.5)\n"
      ],
      "metadata": {
        "id": "k03h6IjWJFmy"
      },
      "execution_count": null,
      "outputs": []
    },
    {
      "cell_type": "code",
      "source": [
        "plot_data =(df\n",
        "            .set_index('Class')\n",
        "            .stack().to_frame('value')\n",
        "            .reset_index()\n",
        "            .rename(columns={0:'size','level_1':'measurement'}))\n",
        "plot_data"
      ],
      "metadata": {
        "id": "qiWwUmbMLcXe"
      },
      "execution_count": null,
      "outputs": []
    },
    {
      "cell_type": "code",
      "source": [
        "sns.set_style('whitegrid')\n",
        "sns.set_context('notebook')\n",
        "sns.set_palette('Set2')\n",
        "\n",
        "f = plt.figure(figsize = (6,4))\n",
        "ax = sns.boxplot(x='measurement',y='value',data=plot_data)\n",
        "ax.set_xlabel('')\n",
        "ax.set_ylabel('')\n",
        "ax.set_title('Distribution of Measurements')\n"
      ],
      "metadata": {
        "id": "xkmwYCU8NnQF"
      },
      "execution_count": null,
      "outputs": []
    }
  ]
}
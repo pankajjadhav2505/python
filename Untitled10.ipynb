{
  "nbformat": 4,
  "nbformat_minor": 0,
  "metadata": {
    "colab": {
      "private_outputs": true,
      "provenance": [],
      "authorship_tag": "ABX9TyOkB/Hq2XzBGkq+j9v7dGSX",
      "include_colab_link": true
    },
    "kernelspec": {
      "name": "python3",
      "display_name": "Python 3"
    },
    "language_info": {
      "name": "python"
    }
  },
  "cells": [
    {
      "cell_type": "markdown",
      "metadata": {
        "id": "view-in-github",
        "colab_type": "text"
      },
      "source": [
        "<a href=\"https://colab.research.google.com/github/pankajjadhav2505/python/blob/main/Untitled10.ipynb\" target=\"_parent\"><img src=\"https://colab.research.google.com/assets/colab-badge.svg\" alt=\"Open In Colab\"/></a>"
      ]
    },
    {
      "cell_type": "code",
      "execution_count": null,
      "metadata": {
        "id": "Sgy5NJZXr0tD"
      },
      "outputs": [],
      "source": [
        "import requests\n",
        "from bs4 import BeautifulSoup\n",
        "import pandas as pd\n",
        "import numpy as np\n",
        "import matplotlib.pyplot as plt\n",
        "import seaborn as sns\n",
        "import numpy as np\n",
        "# pio.renderers.default = \"browser"
      ]
    },
    {
      "cell_type": "code",
      "source": [
        "pd.set_option('display.max_columns', None)"
      ],
      "metadata": {
        "id": "x4yRk-WWsHe0"
      },
      "execution_count": null,
      "outputs": []
    },
    {
      "cell_type": "code",
      "source": [
        "plt.style.use('fivethirtyeight')"
      ],
      "metadata": {
        "id": "tv9_WfrlsN-F"
      },
      "execution_count": null,
      "outputs": []
    },
    {
      "cell_type": "code",
      "source": [
        "#read csv\n",
        "df = pd.read_csv('Iris.csv')\n",
        "df.head(20)"
      ],
      "metadata": {
        "id": "8rrKzD8hs2Fg"
      },
      "execution_count": null,
      "outputs": []
    },
    {
      "cell_type": "code",
      "source": [
        "df.groupby('Species').describe()#.head()\n"
      ],
      "metadata": {
        "id": "lpvsQnEIt9hW"
      },
      "execution_count": null,
      "outputs": []
    },
    {
      "cell_type": "code",
      "source": [
        "agg_dict ={'one':1}\n",
        "agg_dict['two'] = 2\n",
        "agg_dict"
      ],
      "metadata": {
        "id": "l7sJDbxruLHM"
      },
      "execution_count": null,
      "outputs": []
    },
    {
      "cell_type": "code",
      "source": [
        "agg_dict = {\n",
        "    field:['mean','median']\n",
        "            for field in df.columns.tolist()\n",
        "            if field != 'Species'}\n",
        "agg_dict['PetalLengthCm'] = 'min'\n",
        "df.groupby('Species').agg(agg_dict)\n",
        "# agg_dict"
      ],
      "metadata": {
        "id": "dxComin9vHlg"
      },
      "execution_count": null,
      "outputs": []
    },
    {
      "cell_type": "code",
      "source": [
        "sns.distplot(a=df['PetalWidthCm'],bins = 40,color = 'm')\n",
        "plt.title('Distribution of Petal Width')\n",
        "plt"
      ],
      "metadata": {
        "id": "GS7zRNCAxDmI"
      },
      "execution_count": null,
      "outputs": []
    },
    {
      "cell_type": "code",
      "source": [
        "sns.countplot(x='Class',data=df,hue = 'Class',)#palette = 'Set2')\n",
        "# x = plt.xticks(rotation=45)\n",
        "#"
      ],
      "metadata": {
        "id": "kPksZ_jQzkPg"
      },
      "execution_count": null,
      "outputs": []
    },
    {
      "cell_type": "code",
      "source": [
        "sns.boxplot(x='Class',y='PetalLengthCm',data=df)\n"
      ],
      "metadata": {
        "id": "lSBzWWov0Hbb"
      },
      "execution_count": null,
      "outputs": []
    },
    {
      "cell_type": "code",
      "source": [
        "df.rename(columns={\"Species\": \"Class\"}, inplace=True)\n",
        "df.head()\n"
      ],
      "metadata": {
        "id": "UPbbRZkj02py"
      },
      "execution_count": null,
      "outputs": []
    },
    {
      "cell_type": "code",
      "source": [
        "sns.violinplot(x='Class',y='PetalLengthCm',data=df,palette = 'Set2',hue='Class')\n",
        "df.xlabels = plt.xticks(rotation=45)\n",
        "df.yticks = plt.yticks(np.arange(6),['setalLength','petalLenght','super','madcoddda','bensoda','godisoda'])\n",
        "# df.xlabel = plt.xlabel('Class')"
      ],
      "metadata": {
        "id": "zoTccunc1RTL"
      },
      "execution_count": null,
      "outputs": []
    },
    {
      "cell_type": "code",
      "source": [
        "sns.heatmap(df['SepalLengthCm','SepalWidthCm','PetalLengthCm','PetalWidthCm'].corr(),cmap='YlGnBu',linewidths= 1,annot = true)"
      ],
      "metadata": {
        "id": "fQpFE6FG4dBT"
      },
      "execution_count": null,
      "outputs": []
    },
    {
      "cell_type": "code",
      "source": [
        "sns.regplot(x='PetalLengthCm',y='PetalWidthCm',data=df,color='m')"
      ],
      "metadata": {
        "id": "MZ_7PKT0BXrV"
      },
      "execution_count": null,
      "outputs": []
    },
    {
      "cell_type": "code",
      "source": [
        "sns.lmplot(x='PetalLengthCm',y='PetalWidthCm',data=df,hue='Class',palette='Set2')"
      ],
      "metadata": {
        "id": "McvSf9WSCtoq"
      },
      "execution_count": null,
      "outputs": []
    }
  ]
}
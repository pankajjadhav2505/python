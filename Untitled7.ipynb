{
  "nbformat": 4,
  "nbformat_minor": 0,
  "metadata": {
    "colab": {
      "private_outputs": true,
      "provenance": [],
      "authorship_tag": "ABX9TyNLj4LAG1CGefapW0E037Qp",
      "include_colab_link": true
    },
    "kernelspec": {
      "name": "python3",
      "display_name": "Python 3"
    },
    "language_info": {
      "name": "python"
    }
  },
  "cells": [
    {
      "cell_type": "markdown",
      "metadata": {
        "id": "view-in-github",
        "colab_type": "text"
      },
      "source": [
        "<a href=\"https://colab.research.google.com/github/pankajjadhav2505/python/blob/main/Untitled7.ipynb\" target=\"_parent\"><img src=\"https://colab.research.google.com/assets/colab-badge.svg\" alt=\"Open In Colab\"/></a>"
      ]
    },
    {
      "cell_type": "code",
      "source": [
        "import pandas as pd\n",
        "import numpy as np\n",
        "import matplotlib.pyplot as plt\n",
        "import seaborn as sns"
      ],
      "metadata": {
        "id": "1OLGOq51kOXp"
      },
      "execution_count": null,
      "outputs": []
    },
    {
      "cell_type": "code",
      "execution_count": null,
      "metadata": {
        "id": "YqVSImcdj3Tu"
      },
      "outputs": [],
      "source": [
        "df = pd.read_csv('weather_data.csv')\n",
        "df"
      ]
    },
    {
      "cell_type": "code",
      "source": [
        "df = pd.read_csv('Data.csv')\n",
        "df"
      ],
      "metadata": {
        "id": "5BEftYOxkiYq"
      },
      "execution_count": null,
      "outputs": []
    },
    {
      "cell_type": "code",
      "source": [
        "new_df = df.replace(to_replace = 'Sunny', value = 'Rainy')\n",
        "new_df"
      ],
      "metadata": {
        "id": "riklZqielq0q"
      },
      "execution_count": null,
      "outputs": []
    },
    {
      "cell_type": "code",
      "source": [
        "new_df = df.replace({'temperature':-99999,'windspeed':7-99999,'event':'0'},np.nan)\n",
        "new_df"
      ],
      "metadata": {
        "id": "9vl-8zgemklU"
      },
      "execution_count": null,
      "outputs": []
    },
    {
      "cell_type": "code",
      "source": [
        "new_df=df.replace({-99999:np.nan,'0':'Sunny'})\n",
        "new_df"
      ],
      "metadata": {
        "id": "x_2dB-k4nakq"
      },
      "execution_count": null,
      "outputs": []
    },
    {
      "cell_type": "code",
      "source": [
        "new_df=df.replace({'temperature':'[A-Za-z]','windspeed':'[a-z]'},'',regex=True)\n",
        "new_df\n"
      ],
      "metadata": {
        "id": "D5F4yUp7oNyN"
      },
      "execution_count": null,
      "outputs": []
    },
    {
      "cell_type": "code",
      "source": [
        "df =pd.DataFrame({\n",
        "    'score':['exceptional','average','poor','good','average','exceptional'],\n",
        "    'student':['rob','maya','parthiv','tom','julian','erica']\n",
        "})\n",
        "df\n"
      ],
      "metadata": {
        "id": "aO_Jmb97pxV6"
      },
      "execution_count": null,
      "outputs": []
    },
    {
      "cell_type": "code",
      "source": [
        "df.replace(['poor','average','good','exceptional'],[1,2,3,4])\n",
        "#mapping replace"
      ],
      "metadata": {
        "id": "5CfwzD6AqIyK"
      },
      "execution_count": null,
      "outputs": []
    },
    {
      "cell_type": "code",
      "source": [
        "df = pd.read_csv('weather_by_cities.csv')\n",
        "df"
      ],
      "metadata": {
        "id": "D3babtPvq_Nl"
      },
      "execution_count": null,
      "outputs": []
    },
    {
      "cell_type": "code",
      "source": [
        "df[df['city']=='mumbai']['temperature'].max()"
      ],
      "metadata": {
        "id": "aXZsqInCswa1"
      },
      "execution_count": null,
      "outputs": []
    },
    {
      "cell_type": "code",
      "source": [
        "for city,city_df in df.groupby('city'):\n",
        "    print(city)\n",
        "    print(city_df)"
      ],
      "metadata": {
        "id": "FGPthC8pteAT"
      },
      "execution_count": null,
      "outputs": []
    },
    {
      "cell_type": "code",
      "source": [
        "g.get_group('mumbai')\n",
        "#"
      ],
      "metadata": {
        "id": "GxMpVigfu6SX"
      },
      "execution_count": null,
      "outputs": []
    },
    {
      "cell_type": "code",
      "source": [
        "g.max()"
      ],
      "metadata": {
        "id": "Q389xkomvt9Z"
      },
      "execution_count": null,
      "outputs": []
    },
    {
      "cell_type": "code",
      "source": [
        "g.mean('event')"
      ],
      "metadata": {
        "id": "GJCesEhBv2Hu"
      },
      "execution_count": null,
      "outputs": []
    },
    {
      "cell_type": "code",
      "source": [
        "g.describe()\n",
        "#\n"
      ],
      "metadata": {
        "id": "J5KkpO0oxOec"
      },
      "execution_count": null,
      "outputs": []
    },
    {
      "cell_type": "code",
      "source": [
        "%matplotlib inline\n",
        "import matplotlib.pyplot as plt\n",
        "g.plot()\n",
        "# plt.show()\n",
        "#"
      ],
      "metadata": {
        "id": "luGCJ92ixu1c"
      },
      "execution_count": null,
      "outputs": []
    },
    {
      "cell_type": "code",
      "source": [
        "def grouper(df,idx,col):\n",
        "    if 80<=df[col].loc[idx]<90:\n",
        "        return '80-90'\n",
        "    elif 70<=df[col].loc[idx]<80:\n",
        "        return '70-80'\n",
        "    elif 50<=df[col].loc[idx]<70:\n",
        "        return 'others'"
      ],
      "metadata": {
        "id": "1a1q0a4pyqkB"
      },
      "execution_count": null,
      "outputs": []
    },
    {
      "cell_type": "code",
      "source": [
        "g = df.groupby(lambda x:grouper(df,x,'temperature'))\n",
        "g"
      ],
      "metadata": {
        "id": "VDtbVKHuy9qI"
      },
      "execution_count": null,
      "outputs": []
    },
    {
      "cell_type": "code",
      "source": [
        "for key,d in g:\n",
        "    print('groupby keys'.format(key))\n",
        "    print(d)"
      ],
      "metadata": {
        "id": "dwM7cPmf0QpW"
      },
      "execution_count": null,
      "outputs": []
    },
    {
      "cell_type": "code",
      "source": [
        "india_weather = pd.DataFrame({\"city\":[\"mumbai\",\"delhi\",\"banglore\"],\"temperature\":[32,45,30],\"humidity\":[80,60,78]})\n",
        "india_weather"
      ],
      "metadata": {
        "id": "J3cQu6QQBkon"
      },
      "execution_count": null,
      "outputs": []
    },
    {
      "cell_type": "code",
      "source": [
        "\n",
        "us_weather = pd.DataFrame({\"city\":[\"new york\",\"chicago\",\"orlando\"],\"temperature\":[21,14,35],\"humidity\":[68,65,75]})\n",
        "df = pd.concat([india_weather, us_weather],ignore_index=True)\n",
        "df\n"
      ],
      "metadata": {
        "id": "vjikY_n0DBYv"
      },
      "execution_count": null,
      "outputs": []
    },
    {
      "cell_type": "code",
      "source": [
        "temperature_df = pd.DataFrame({\"city\":[\"mumbai\",\"delhi\",\"banglore\"],\"temperature\":[32,45,30]},index=[7,12,5])\n",
        "temperature_df"
      ],
      "metadata": {
        "id": "o7B0ynUdD2Vx"
      },
      "execution_count": null,
      "outputs": []
    },
    {
      "cell_type": "code",
      "source": [
        "humidity_df = pd.DataFrame({\"city\":[\"delhi\",\"mumbai\",\"banglore\"],\"humidity\":[68,65,75]},index=[12,7,5])\n",
        "df = pd.concat([temperature_df,humidity_df],axis=1)\n",
        "df"
      ],
      "metadata": {
        "id": "YbPys8BiFIDU"
      },
      "execution_count": null,
      "outputs": []
    },
    {
      "cell_type": "code",
      "source": [
        "df1 = pd.Series(['humid','dry','rain'],name='event')\n",
        "df1 = pd.concat([temperature_df,df1],axis=1)\n",
        "df1"
      ],
      "metadata": {
        "id": "d3ssv1fJG_Cc"
      },
      "execution_count": null,
      "outputs": []
    },
    {
      "cell_type": "code",
      "source": [
        "df2 = pd.DataFrame({\n",
        "    \"city\":[\"mumbai\",\"delhi\",\"banglore\"],\n",
        "    \"temperature\":[32,45,30]\n",
        "    })\n",
        "df2"
      ],
      "metadata": {
        "id": "irN3z6r4Hsrc"
      },
      "execution_count": null,
      "outputs": []
    },
    {
      "cell_type": "code",
      "source": [
        "df3 = pd.DataFrame({\n",
        "    \"city\":[\"chicago\",\"newyork\",\"orlando\"],\n",
        "    \"humidity\":[68,65,75]\n",
        "    })\n",
        "df3\n"
      ],
      "metadata": {
        "id": "d8NPni3WIQcr"
      },
      "execution_count": null,
      "outputs": []
    },
    {
      "cell_type": "code",
      "source": [
        "df4 = pd.merge(df1,df2,on=\"city\")\n",
        "df4"
      ],
      "metadata": {
        "id": "5WysaIhyJstm"
      },
      "execution_count": null,
      "outputs": []
    },
    {
      "cell_type": "code",
      "source": [
        "df3 = pd.DataFrame({\n",
        "    \"city\":[\"chicago\",\"newyork\",\"san diego\"],\n",
        "    \"humidity\":[78,55,73]\n",
        "    })\n",
        "df3"
      ],
      "metadata": {
        "id": "70ip82FRKjd0"
      },
      "execution_count": null,
      "outputs": []
    },
    {
      "cell_type": "code",
      "source": [
        "df4 = pd.merge(df1,df2,on=\"city\",how=\"outer\")\n",
        "df4"
      ],
      "metadata": {
        "id": "5stK8-M9LMIh"
      },
      "execution_count": null,
      "outputs": []
    },
    {
      "cell_type": "code",
      "source": [],
      "metadata": {
        "id": "MaBRjtTJLY84"
      },
      "execution_count": null,
      "outputs": []
    }
  ]
}
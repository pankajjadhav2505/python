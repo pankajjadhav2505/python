{
  "nbformat": 4,
  "nbformat_minor": 0,
  "metadata": {
    "colab": {
      "private_outputs": true,
      "provenance": [],
      "authorship_tag": "ABX9TyNQXFyzK9UMg2AGdm4OEDAw",
      "include_colab_link": true
    },
    "kernelspec": {
      "name": "python3",
      "display_name": "Python 3"
    },
    "language_info": {
      "name": "python"
    }
  },
  "cells": [
    {
      "cell_type": "markdown",
      "metadata": {
        "id": "view-in-github",
        "colab_type": "text"
      },
      "source": [
        "<a href=\"https://colab.research.google.com/github/pankajjadhav2505/python/blob/main/Untitled7.ipynb\" target=\"_parent\"><img src=\"https://colab.research.google.com/assets/colab-badge.svg\" alt=\"Open In Colab\"/></a>"
      ]
    },
    {
      "cell_type": "code",
      "source": [
        "import pandas as pd\n",
        "import numpy as np\n",
        "import matplotlib.pyplot as plt\n",
        "import seaborn as sns"
      ],
      "metadata": {
        "id": "1OLGOq51kOXp"
      },
      "execution_count": null,
      "outputs": []
    },
    {
      "cell_type": "code",
      "execution_count": null,
      "metadata": {
        "id": "YqVSImcdj3Tu"
      },
      "outputs": [],
      "source": [
        "df = pd.read_csv('weather_data.csv')\n",
        "df"
      ]
    },
    {
      "cell_type": "code",
      "source": [
        "df = pd.read_csv('Data.csv')\n",
        "df"
      ],
      "metadata": {
        "id": "5BEftYOxkiYq"
      },
      "execution_count": null,
      "outputs": []
    },
    {
      "cell_type": "code",
      "source": [
        "new_df = df.replace(to_replace = 'Sunny', value = 'Rainy')\n",
        "new_df"
      ],
      "metadata": {
        "id": "riklZqielq0q"
      },
      "execution_count": null,
      "outputs": []
    },
    {
      "cell_type": "code",
      "source": [
        "new_df = df.replace({'temperature':-99999,'windspeed':7-99999,'event':'0'},np.nan)\n",
        "new_df"
      ],
      "metadata": {
        "id": "9vl-8zgemklU"
      },
      "execution_count": null,
      "outputs": []
    },
    {
      "cell_type": "code",
      "source": [
        "new_df=df.replace({-99999:np.nan,'0':'Sunny'})\n",
        "new_df"
      ],
      "metadata": {
        "id": "x_2dB-k4nakq"
      },
      "execution_count": null,
      "outputs": []
    },
    {
      "cell_type": "code",
      "source": [
        "new_df=df.replace({'temperature':'[A-Za-z]','windspeed':'[a-z]'},'',regex=True)\n",
        "new_df\n"
      ],
      "metadata": {
        "id": "D5F4yUp7oNyN"
      },
      "execution_count": null,
      "outputs": []
    },
    {
      "cell_type": "code",
      "source": [
        "df =pd.DataFrame({\n",
        "    'score':['exceptional','average','poor','good','average','exceptional'],\n",
        "    'student':['rob','maya','parthiv','tom','julian','erica']\n",
        "})\n",
        "df\n"
      ],
      "metadata": {
        "id": "aO_Jmb97pxV6"
      },
      "execution_count": null,
      "outputs": []
    },
    {
      "cell_type": "code",
      "source": [
        "df.replace(['poor','average','good','exceptional'],[1,2,3,4])\n",
        "#mapping replace"
      ],
      "metadata": {
        "id": "5CfwzD6AqIyK"
      },
      "execution_count": null,
      "outputs": []
    },
    {
      "cell_type": "code",
      "source": [
        "df = pd.read_csv('weather_by_cities.csv')\n",
        "df"
      ],
      "metadata": {
        "id": "D3babtPvq_Nl"
      },
      "execution_count": null,
      "outputs": []
    },
    {
      "cell_type": "code",
      "source": [
        "df[df['city']=='mumbai']['temperature'].max()"
      ],
      "metadata": {
        "id": "aXZsqInCswa1"
      },
      "execution_count": null,
      "outputs": []
    },
    {
      "cell_type": "code",
      "source": [
        "for city,city_df in df.groupby('city'):\n",
        "    print(city)\n",
        "    print(city_df)"
      ],
      "metadata": {
        "id": "FGPthC8pteAT"
      },
      "execution_count": null,
      "outputs": []
    },
    {
      "cell_type": "code",
      "source": [
        "g.get_group('mumbai')\n",
        "#"
      ],
      "metadata": {
        "id": "GxMpVigfu6SX"
      },
      "execution_count": null,
      "outputs": []
    },
    {
      "cell_type": "code",
      "source": [
        "g.max()"
      ],
      "metadata": {
        "id": "Q389xkomvt9Z"
      },
      "execution_count": null,
      "outputs": []
    },
    {
      "cell_type": "code",
      "source": [
        "g.mean('event')"
      ],
      "metadata": {
        "id": "GJCesEhBv2Hu"
      },
      "execution_count": null,
      "outputs": []
    },
    {
      "cell_type": "code",
      "source": [
        "g.describe()\n",
        "#\n"
      ],
      "metadata": {
        "id": "J5KkpO0oxOec"
      },
      "execution_count": null,
      "outputs": []
    },
    {
      "cell_type": "code",
      "source": [
        "%matplotlib inline\n",
        "import matplotlib.pyplot as plt\n",
        "g.plot()\n",
        "plt.show()\n",
        "#"
      ],
      "metadata": {
        "id": "luGCJ92ixu1c"
      },
      "execution_count": null,
      "outputs": []
    }
  ]
}
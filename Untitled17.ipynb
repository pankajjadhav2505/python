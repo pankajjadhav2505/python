{
  "nbformat": 4,
  "nbformat_minor": 0,
  "metadata": {
    "colab": {
      "private_outputs": true,
      "provenance": [],
      "authorship_tag": "ABX9TyN4/vduMSCrIM0NmAhi5Yo0",
      "include_colab_link": true
    },
    "kernelspec": {
      "name": "python3",
      "display_name": "Python 3"
    },
    "language_info": {
      "name": "python"
    }
  },
  "cells": [
    {
      "cell_type": "markdown",
      "metadata": {
        "id": "view-in-github",
        "colab_type": "text"
      },
      "source": [
        "<a href=\"https://colab.research.google.com/github/pankajjadhav2505/python/blob/main/Untitled17.ipynb\" target=\"_parent\"><img src=\"https://colab.research.google.com/assets/colab-badge.svg\" alt=\"Open In Colab\"/></a>"
      ]
    },
    {
      "cell_type": "code",
      "execution_count": null,
      "metadata": {
        "id": "_sos2z8z_elE"
      },
      "outputs": [],
      "source": [
        "import nltk\n",
        "from nltk.stem import PorterStemmer\n",
        "from nltk.corpus import stopwords"
      ]
    },
    {
      "cell_type": "code",
      "source": [
        "paragraph = ''' Sambhaji, also known as Shambhuraje, was the second Chhatrapati of the Maratha Empire, ruling from 1681 to 1689. He was the eldest son of Shivaji, the founder of the Maratha Kingdom.'''"
      ],
      "metadata": {
        "id": "YYolhaKy_xMO"
      },
      "execution_count": null,
      "outputs": []
    },
    {
      "cell_type": "code",
      "source": [
        "paragraph\n"
      ],
      "metadata": {
        "id": "DEvxMMes_4go"
      },
      "execution_count": null,
      "outputs": []
    },
    {
      "cell_type": "code",
      "source": [
        "# tokenization - convert paragraph to sentence to words\n",
        "nltk.download('punkt')\n",
        "sentences = nltk.sent_tokenize(paragraph)\n",
        "print(sentences)"
      ],
      "metadata": {
        "id": "OWaT_PXP_5uu"
      },
      "execution_count": null,
      "outputs": []
    },
    {
      "cell_type": "code",
      "source": [
        "Stemmer = PorterStemmer()\n",
        "Stemmer.stem('playing')"
      ],
      "metadata": {
        "id": "1z_rJR5wBNMI"
      },
      "execution_count": null,
      "outputs": []
    },
    {
      "cell_type": "code",
      "source": [
        "4"
      ],
      "metadata": {
        "id": "dEcm5x8MB6PF"
      },
      "execution_count": null,
      "outputs": []
    }
  ]
}
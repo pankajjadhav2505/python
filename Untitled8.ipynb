{
  "nbformat": 4,
  "nbformat_minor": 0,
  "metadata": {
    "colab": {
      "private_outputs": true,
      "provenance": [],
      "authorship_tag": "ABX9TyMU1FFoMivLNjzbJ/b/W+D/",
      "include_colab_link": true
    },
    "kernelspec": {
      "name": "python3",
      "display_name": "Python 3"
    },
    "language_info": {
      "name": "python"
    }
  },
  "cells": [
    {
      "cell_type": "markdown",
      "metadata": {
        "id": "view-in-github",
        "colab_type": "text"
      },
      "source": [
        "<a href=\"https://colab.research.google.com/github/pankajjadhav2505/python/blob/main/Untitled8.ipynb\" target=\"_parent\"><img src=\"https://colab.research.google.com/assets/colab-badge.svg\" alt=\"Open In Colab\"/></a>"
      ]
    },
    {
      "cell_type": "code",
      "execution_count": null,
      "metadata": {
        "id": "FHbvrIy0NJjn"
      },
      "outputs": [],
      "source": [
        "# prompt: create a csv file name wix_review.csv\n",
        "\n",
        "!touch wix_review.csv\n"
      ]
    },
    {
      "cell_type": "code",
      "source": [
        "import pandas as pd\n",
        "import numpy as np\n",
        "import csv"
      ],
      "metadata": {
        "id": "mx9srsgUSRmt"
      },
      "execution_count": null,
      "outputs": []
    },
    {
      "cell_type": "code",
      "source": [
        "pd.read_csv('sample_review_import.csv')"
      ],
      "metadata": {
        "id": "6izxXDlOVAoc"
      },
      "execution_count": null,
      "outputs": []
    },
    {
      "cell_type": "code",
      "source": [
        "# prompt: add 50 entries like above\n",
        "\n",
        "import pandas as pd\n",
        "import numpy as np\n",
        "import csv\n",
        "\n",
        "!touch wix_review.csv\n",
        "\n",
        "df = pd.read_csv('sample_review_import.csv')\n",
        "new_df = pd.concat([df]*50, ignore_index=True)\n",
        "new_df.to_csv('wix_review.csv', index=False)\n",
        "new_df\n"
      ],
      "metadata": {
        "id": "ukLdbUSdVJXu"
      },
      "execution_count": null,
      "outputs": []
    },
    {
      "cell_type": "code",
      "source": [],
      "metadata": {
        "id": "4S-lveGEW5Zr"
      },
      "execution_count": null,
      "outputs": []
    }
  ]
}